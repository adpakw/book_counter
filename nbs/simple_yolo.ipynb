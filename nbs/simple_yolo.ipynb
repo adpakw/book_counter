{
 "cells": [
  {
   "cell_type": "markdown",
   "id": "3dd74b62",
   "metadata": {},
   "source": [
    "# Simple YOLO model\n",
    "\n",
    "Вся выжимка из анализа набора данных при помощи \"пристального взгляда\" описана в ```README.md```. Также там есть размышления по решению данной задачи через **эвристику**.\n",
    "\n",
    "## Задача\n",
    "Определить количество книг на фотографии.\n",
    "\n",
    "## Размышления\n",
    "Первое, что мне пришло в голову исходя из глобальной задачи (решить проблему \"Правила размещения на площадке\") - это применить для этой задачи **детекторы**. Т.е. в дальнейшем хотим использовать данную модель/систему для разбиения одного размещения с несколькими книгами на несколько размещений по одной книге. \n",
    "\n",
    "Почему именно детекторы - потому что мы можем увидеть, что именно модель/система считает за книгу, также есть пул предобученных моделей. \n",
    "\n",
    "## Логика\n",
    "1) Беру предобученную **YOLO** для детекции (Предобученный детектор можно брать любой, главное, чтобы в датасете, на котором он обучался, был класс \"книга\")\n",
    "2) Прогоняем фото через детектор \n",
    "3) Ищем детекции с классом соответствющим книге\n",
    "4) Считаем кол-во детекций (кол-во детекций = кол-ву книг на фото)\n",
    "\n",
    "На данном этапе я пока **не буду** делать препроцессинг и постпроцессинг.\n",
    "\n",
    "Буду считать данное решение **baseline**."
   ]
  },
  {
   "cell_type": "markdown",
   "id": "30186f57",
   "metadata": {},
   "source": [
    "# Import"
   ]
  },
  {
   "cell_type": "code",
   "execution_count": 4,
   "id": "f3db31b7",
   "metadata": {},
   "outputs": [],
   "source": [
    "import os\n",
    "\n",
    "while os.getcwd().split(\"/\")[-1] != \"book_counter\":\n",
    "    os.chdir(os.path.abspath(os.path.join(os.getcwd(), \"..\")))"
   ]
  },
  {
   "cell_type": "code",
   "execution_count": 5,
   "id": "8d4bccdc",
   "metadata": {},
   "outputs": [],
   "source": [
    "import cv2\n",
    "import numpy as np\n",
    "import pandas as pd\n",
    "from ultralytics import YOLO"
   ]
  },
  {
   "cell_type": "markdown",
   "id": "0c5905f4",
   "metadata": {},
   "source": [
    "# Input/Output Configuration "
   ]
  },
  {
   "cell_type": "code",
   "execution_count": null,
   "id": "c4c4fdb1",
   "metadata": {},
   "outputs": [],
   "source": [
    "images_folder = 'task_images'\n",
    "image_files = [f for f in os.listdir(images_folder) if f.endswith(('.jpg', '.jpeg', '.png'))]\n",
    "image_files.sort(key=lambda x: int(x.split('.')[0]))"
   ]
  },
  {
   "cell_type": "code",
   "execution_count": 21,
   "id": "0173b30e",
   "metadata": {},
   "outputs": [],
   "source": [
    "output_folder = 'detection_results_simple_yolo'\n",
    "\n",
    "os.makedirs(output_folder, exist_ok=True)"
   ]
  },
  {
   "cell_type": "code",
   "execution_count": 36,
   "id": "d62e075f",
   "metadata": {},
   "outputs": [],
   "source": [
    "solution_csv_path = \"solution_simple_yolo.csv\""
   ]
  },
  {
   "cell_type": "markdown",
   "id": "9bc017d6",
   "metadata": {},
   "source": [
    "# Init model"
   ]
  },
  {
   "cell_type": "code",
   "execution_count": 37,
   "id": "8a4228c5",
   "metadata": {},
   "outputs": [],
   "source": [
    "model = YOLO('yolo11s.pt')\n",
    "conf_threshold = 0.5"
   ]
  },
  {
   "cell_type": "markdown",
   "id": "3047853b",
   "metadata": {},
   "source": [
    "# Inference (Object Detection and Counting)"
   ]
  },
  {
   "cell_type": "code",
   "execution_count": 38,
   "id": "1833b813",
   "metadata": {},
   "outputs": [],
   "source": [
    "submission_df = pd.DataFrame(columns=['image_id', 'number_of_books'])"
   ]
  },
  {
   "cell_type": "code",
   "execution_count": 39,
   "id": "0d2bbd9f",
   "metadata": {},
   "outputs": [],
   "source": [
    "for img_file in image_files:\n",
    "    img_path = os.path.join(images_folder, img_file)\n",
    "    image = cv2.imread(img_path)\n",
    "\n",
    "    image_with_boxes = image.copy()\n",
    "    book_count = 0\n",
    "\n",
    "    results = model(image, conf=conf_threshold, verbose=False)\n",
    "    for result in results:\n",
    "        if result.boxes is not None:\n",
    "            boxes = result.boxes.xyxy.cpu().numpy()\n",
    "            confidences = result.boxes.conf.cpu().numpy()\n",
    "            class_ids = result.boxes.cls.cpu().numpy().astype(int)\n",
    "\n",
    "            for i, (box, conf, cls_id) in enumerate(zip(boxes, confidences, class_ids)):\n",
    "                if cls_id == 73:\n",
    "                    book_count += 1\n",
    "                    x1, y1, x2, y2 = map(int, box)\n",
    "                    cv2.rectangle(\n",
    "                        image_with_boxes, (x1, y1), (x2, y2), (0, 255, 0), 2\n",
    "                    )\n",
    "                    label = f\"{conf:.2f}\"\n",
    "                    (text_width, text_height), baseline = cv2.getTextSize(\n",
    "                        label, cv2.FONT_HERSHEY_SIMPLEX, 0.7, 2\n",
    "                    )\n",
    "                    cv2.rectangle(\n",
    "                        image_with_boxes,\n",
    "                        (x1, y1 - text_height - 5),\n",
    "                        (x1 + text_width, y1),\n",
    "                        (0, 255, 0),\n",
    "                        -1,\n",
    "                    )\n",
    "                    cv2.putText(\n",
    "                        image_with_boxes,\n",
    "                        label,\n",
    "                        (x1, y1 - 5),\n",
    "                        cv2.FONT_HERSHEY_SIMPLEX,\n",
    "                        0.7,\n",
    "                        (0, 0, 0),\n",
    "                    )\n",
    "\n",
    "    output_path = os.path.join(output_folder, f\"{img_file.split('.')[0]}_result.jpg\")\n",
    "    cv2.imwrite(output_path, image_with_boxes)\n",
    "    submission_df = pd.concat(\n",
    "        [submission_df, pd.DataFrame({\"image_id\": [img_file.split('.')[0]], \"number_of_books\": [book_count]})],\n",
    "        ignore_index=True,\n",
    "    )"
   ]
  },
  {
   "cell_type": "code",
   "execution_count": 40,
   "id": "225d2f49",
   "metadata": {},
   "outputs": [],
   "source": [
    "submission_df.to_csv(\n",
    "    solution_csv_path, \n",
    "    header=['image_id', 'number_of_books'], \n",
    "    index=False\n",
    ")"
   ]
  }
 ],
 "metadata": {
  "kernelspec": {
   "display_name": "book-counter-py3.13 (3.13.1)",
   "language": "python",
   "name": "python3"
  },
  "language_info": {
   "codemirror_mode": {
    "name": "ipython",
    "version": 3
   },
   "file_extension": ".py",
   "mimetype": "text/x-python",
   "name": "python",
   "nbconvert_exporter": "python",
   "pygments_lexer": "ipython3",
   "version": "3.13.1"
  }
 },
 "nbformat": 4,
 "nbformat_minor": 5
}
