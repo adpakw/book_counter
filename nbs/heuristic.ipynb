{
 "cells": [
  {
   "cell_type": "markdown",
   "id": "4a596cb5",
   "metadata": {},
   "source": [
    "# Heuristic\n",
    "\n",
    "Эвристический подход к подсчету кол-ва книг на фото.\n",
    "\n",
    "## Логика\n",
    "**Цель:** Найти на изображении все объекты, которые похожи на прямоугольники и подходят по размеру под книгу.\n",
    "\n",
    "**Основное предположение:** Книга — это объект, который имеет форму, близкую к прямоугольнику, и ее контур хорошо виден на изображении."
   ]
  },
  {
   "cell_type": "markdown",
   "id": "23005c86",
   "metadata": {},
   "source": [
    "# Import"
   ]
  },
  {
   "cell_type": "code",
   "execution_count": 1,
   "id": "cd330791",
   "metadata": {},
   "outputs": [],
   "source": [
    "import os\n",
    "\n",
    "while os.getcwd().split(\"/\")[-1] != \"book_counter\":\n",
    "    os.chdir(os.path.abspath(os.path.join(os.getcwd(), \"..\")))"
   ]
  },
  {
   "cell_type": "code",
   "execution_count": 5,
   "id": "66f8bf93",
   "metadata": {},
   "outputs": [],
   "source": [
    "import cv2\n",
    "import numpy as np\n",
    "import pandas as pd"
   ]
  },
  {
   "cell_type": "markdown",
   "id": "1f311cc2",
   "metadata": {},
   "source": [
    "# Input/Output Configuration "
   ]
  },
  {
   "cell_type": "code",
   "execution_count": 4,
   "id": "18ae2591",
   "metadata": {},
   "outputs": [],
   "source": [
    "images_folder = 'task_images'\n",
    "image_files = [f for f in os.listdir(images_folder) if f.endswith(('.jpg', '.jpeg', '.png'))]\n",
    "image_files.sort(key=lambda x: int(x.split('.')[0]))"
   ]
  },
  {
   "cell_type": "code",
   "execution_count": 3,
   "id": "7aa1c653",
   "metadata": {},
   "outputs": [],
   "source": [
    "output_folder = 'heuristic_results'\n",
    "\n",
    "os.makedirs(output_folder, exist_ok=True)"
   ]
  },
  {
   "cell_type": "code",
   "execution_count": null,
   "id": "e3977efa",
   "metadata": {},
   "outputs": [],
   "source": [
    "solution_csv_path = \"solution_heuristic.csv\""
   ]
  },
  {
   "cell_type": "markdown",
   "id": "dfa0d4b2",
   "metadata": {},
   "source": [
    "# Solution"
   ]
  },
  {
   "cell_type": "code",
   "execution_count": 6,
   "id": "0a16132e",
   "metadata": {},
   "outputs": [],
   "source": [
    "submission_df = pd.DataFrame(columns=['image_id', 'number_of_books'])"
   ]
  },
  {
   "cell_type": "code",
   "execution_count": 35,
   "id": "927bdc68",
   "metadata": {},
   "outputs": [],
   "source": [
    "def heuristic_count_books(\n",
    "    image_path: str,\n",
    "    min_area: int = 5000,\n",
    "    max_area: int = 90000,\n",
    "    max_angle_deviation: int = 20,\n",
    "    output_dir: str = \"heuristic_results\",\n",
    ") -> int:\n",
    "    \"\"\"Ищем формы близкие к прямоугольникам(книгам).\n",
    "    Здесь нам не важен цвет, поэтому приводим к ЧБ формату\n",
    "\n",
    "    Args:\n",
    "        image_path (str): Путь до изображения\n",
    "        min_area (int): Минимальная площадь контура\n",
    "        max_area (int): Максимальная площадь контура  \n",
    "        max_angle_deviation (int): Максимальное отклонение угла от 90 градусов\n",
    "        output_dir (str): Директория для сохранения изображений с разметкой\n",
    "\n",
    "    Returns:\n",
    "        int: Кол-во книг на фото\n",
    "    \"\"\"\n",
    "    image = cv2.imread(image_path)\n",
    "    image = cv2.resize(image, (262, 390))\n",
    "    result_image = image.copy()\n",
    "\n",
    "    # Приведение к ЧБ формату через адаптивный порог, решает проблему со сложным освещением\n",
    "    gray = cv2.cvtColor(image, cv2.COLOR_BGR2GRAY)\n",
    "    binary = cv2.adaptiveThreshold(\n",
    "        gray, 255, cv2.ADAPTIVE_THRESH_GAUSSIAN_C, cv2.THRESH_BINARY_INV, 11, 2\n",
    "    )\n",
    "\n",
    "    # избавление от шумов\n",
    "    kernel = np.ones((3, 3), np.uint8)\n",
    "    binary = cv2.morphologyEx(binary, cv2.MORPH_CLOSE, kernel)\n",
    "    binary = cv2.morphologyEx(binary, cv2.MORPH_OPEN, kernel)\n",
    "\n",
    "    # cv2.RETR_EXTERNAL для избавление от вложенных контуров, берем только внешние\n",
    "    contours, _ = cv2.findContours(binary, cv2.RETR_EXTERNAL, cv2.CHAIN_APPROX_SIMPLE)\n",
    "\n",
    "    book_count = 0\n",
    "    for contour in contours:\n",
    "        # отсеивание мелких фигур\n",
    "        area = cv2.contourArea(contour)\n",
    "        if min_area < area < max_area:\n",
    "            # аппроксимация для упрощения контура в доке opencv есть хороший пример\n",
    "            perimeter = cv2.arcLength(contour, True)\n",
    "            approx = cv2.approxPolyDP(contour, 0.1 * perimeter, True)\n",
    "\n",
    "            # проверка на четырехугольник\n",
    "            if len(approx) == 4:\n",
    "                # проверка, что это не просто любой четырехугольник, а близкий к прямоугольнику\n",
    "                vectors = []\n",
    "                for i in range(4):\n",
    "                    # считаем вектор между двумя точками\n",
    "                    vec = approx[(i + 1) % 4][0] - approx[i][0]\n",
    "                    vectors.append(vec)\n",
    "\n",
    "                # считаем углы между соседними векторами\n",
    "                for i in range(4):\n",
    "                    v1 = vectors[i]\n",
    "                    v2 = vectors[(i + 1) % 4]\n",
    "                    cosine = np.dot(v1, v2) / (np.linalg.norm(v1) * np.linalg.norm(v2))\n",
    "                    angle = np.degrees(np.arccos(cosine))\n",
    "\n",
    "                    angle_flag = True  # флаг того что углы близки к 90\n",
    "                    # смотрим на отклонение угла от 90\n",
    "                    deviation = abs(angle - 90)\n",
    "                    if deviation > max_angle_deviation:\n",
    "                        angle_flag = False\n",
    "\n",
    "                if angle_flag:\n",
    "                    book_count += 1\n",
    "                    cv2.drawContours(result_image, [approx], -1, (0, 255, 0), 3)\n",
    "\n",
    "    filename = os.path.splitext(os.path.basename(image_path))[0]\n",
    "    output_path = os.path.join(output_dir, f\"{filename}_result.jpg\")\n",
    "    cv2.imwrite(output_path, result_image)\n",
    "\n",
    "    return book_count"
   ]
  },
  {
   "cell_type": "code",
   "execution_count": 36,
   "id": "be61ae17",
   "metadata": {},
   "outputs": [],
   "source": [
    "for img_file in image_files:\n",
    "    img_path = os.path.join(images_folder, img_file)\n",
    "    book_count = heuristic_count_books(img_path)\n",
    "    submission_df = pd.concat(\n",
    "        [submission_df, pd.DataFrame({\"image_id\": [img_file.split('.')[0]], \"number_of_books\": [book_count]})],\n",
    "        ignore_index=True,\n",
    "    )"
   ]
  },
  {
   "cell_type": "code",
   "execution_count": 37,
   "id": "da782392",
   "metadata": {},
   "outputs": [],
   "source": [
    "submission_df.to_csv(\n",
    "    solution_csv_path, \n",
    "    header=['image_id', 'number_of_books'], \n",
    "    index=False\n",
    ")"
   ]
  },
  {
   "cell_type": "markdown",
   "id": "04c0970b",
   "metadata": {},
   "source": [
    "## Пример работы\n",
    "\n",
    "Есть неплохие примеры работы, но они все равно не находят все книги.\n",
    "\n",
    "![good_heuristic_ex](../imgs/good_heuristic_ex.jpg)\n",
    "\n",
    "Даже на довольно простых фото ему не всегда удается найти книги\n",
    "\n",
    "![bad_heuristic_ex](../imgs/bad_heuristic_ex.jpg)"
   ]
  },
  {
   "cell_type": "markdown",
   "id": "1c7fdd5b",
   "metadata": {},
   "source": [
    "## Плюсы эвристики\n",
    "- Минимальные вычислительные затраты\n",
    "- Не требует обучения\n",
    "\n",
    "## Минусы эвристики\n",
    "- Плохая обработка сложных случаев(перекрытия, сложный фон и т.д.)\n",
    "- Низкая точность\n",
    "- Необходимость тонкой настройки параметров"
   ]
  }
 ],
 "metadata": {
  "kernelspec": {
   "display_name": "book-counter-py3.13 (3.13.1)",
   "language": "python",
   "name": "python3"
  },
  "language_info": {
   "codemirror_mode": {
    "name": "ipython",
    "version": 3
   },
   "file_extension": ".py",
   "mimetype": "text/x-python",
   "name": "python",
   "nbconvert_exporter": "python",
   "pygments_lexer": "ipython3",
   "version": "3.13.1"
  }
 },
 "nbformat": 4,
 "nbformat_minor": 5
}
