{
 "cells": [
  {
   "cell_type": "markdown",
   "id": "13e4f2b9",
   "metadata": {},
   "source": [
    "# COCO\n",
    "\n",
    "Возьмем датасет COCO и разделим его на две группы: \n",
    "1) книга есть на фото\n",
    "2) книга на фото нет"
   ]
  },
  {
   "cell_type": "code",
   "execution_count": 2,
   "id": "b34e0c74",
   "metadata": {},
   "outputs": [],
   "source": [
    "import os\n",
    "\n",
    "while os.getcwd().split(\"/\")[-1] != \"book_counter\":\n",
    "    os.chdir(os.path.abspath(os.path.join(os.getcwd(), \"..\")))"
   ]
  },
  {
   "cell_type": "code",
   "execution_count": null,
   "id": "338ff1f6",
   "metadata": {},
   "outputs": [],
   "source": [
    "import random\n",
    "import shutil\n",
    "\n",
    "import joblib\n",
    "import matplotlib.pyplot as plt\n",
    "import numpy as np\n",
    "import torch\n",
    "import torch.nn as nn\n",
    "from PIL import Image\n",
    "from sklearn.metrics import accuracy_score, classification_report\n",
    "from sklearn.model_selection import train_test_split\n",
    "from sklearn.svm import SVC\n",
    "from torch.utils.data import DataLoader, Dataset\n",
    "from torchvision import models, transforms\n",
    "from tqdm import tqdm"
   ]
  },
  {
   "cell_type": "code",
   "execution_count": 4,
   "id": "03394116",
   "metadata": {},
   "outputs": [],
   "source": [
    "def organize_books_dataset(source_dir, target_dir):\n",
    "    book_classes = [\"book_jacket\", \"bookcase\", \"bookshop\", \"comic_book\"]\n",
    "\n",
    "    books_dir = os.path.join(target_dir, \"books\")\n",
    "    not_books_dir = os.path.join(target_dir, \"not_books\")\n",
    "\n",
    "    os.makedirs(books_dir, exist_ok=True)\n",
    "    os.makedirs(not_books_dir, exist_ok=True)\n",
    "\n",
    "    book_files = []\n",
    "    other_files = []\n",
    "\n",
    "    for class_name in os.listdir(source_dir):\n",
    "        class_path = os.path.join(source_dir, class_name)\n",
    "\n",
    "        if not os.path.isdir(class_path):\n",
    "            continue\n",
    "\n",
    "        image_files = []\n",
    "        for file in os.listdir(class_path):\n",
    "            if file.lower().endswith((\".jpg\", \".jpeg\", \".png\", \".bmp\", \".tiff\")):\n",
    "                image_files.append(os.path.join(class_path, file))\n",
    "\n",
    "        if class_name in book_classes:\n",
    "            book_files.extend(image_files)\n",
    "        else:\n",
    "            other_files.extend(image_files)\n",
    "\n",
    "    for file_path in book_files:\n",
    "        filename = os.path.basename(file_path)\n",
    "        class_name = os.path.basename(os.path.dirname(file_path))\n",
    "        new_filename = f\"{class_name}_{filename}\"\n",
    "        target_path = os.path.join(books_dir, new_filename)\n",
    "        shutil.copy2(file_path, target_path)\n",
    "\n",
    "    if len(other_files) >= len(book_files):\n",
    "        selected_other_files = random.sample(other_files, len(book_files))\n",
    "    else:\n",
    "        selected_other_files = other_files\n",
    "\n",
    "    for file_path in selected_other_files:\n",
    "        filename = os.path.basename(file_path)\n",
    "        class_name = os.path.basename(os.path.dirname(file_path))\n",
    "        new_filename = f\"{class_name}_{filename}\"\n",
    "        target_path = os.path.join(not_books_dir, new_filename)\n",
    "        shutil.copy2(file_path, target_path)"
   ]
  },
  {
   "cell_type": "code",
   "execution_count": 5,
   "id": "982ec518",
   "metadata": {},
   "outputs": [],
   "source": [
    "source_dataset = \"dataset\"\n",
    "target_dataset = \"organized_dataset\"\n",
    "\n",
    "organize_books_dataset(source_dataset, target_dataset)"
   ]
  }
 ],
 "metadata": {
  "kernelspec": {
   "display_name": "book-counter-py3.13 (3.13.1)",
   "language": "python",
   "name": "python3"
  },
  "language_info": {
   "codemirror_mode": {
    "name": "ipython",
    "version": 3
   },
   "file_extension": ".py",
   "mimetype": "text/x-python",
   "name": "python",
   "nbconvert_exporter": "python",
   "pygments_lexer": "ipython3",
   "version": "3.13.1"
  }
 },
 "nbformat": 4,
 "nbformat_minor": 5
}
